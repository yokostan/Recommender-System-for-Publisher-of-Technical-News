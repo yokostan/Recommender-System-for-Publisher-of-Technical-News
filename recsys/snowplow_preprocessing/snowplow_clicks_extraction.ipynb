{
 "cells": [
  {
   "cell_type": "code",
   "execution_count": 1,
   "metadata": {},
   "outputs": [],
   "source": [
    "import findspark\n",
    "findspark.init()\n",
    "import pandas as pd\n",
    "from pyspark import SparkConf, SparkContext\n",
    "import os\n",
    "\n",
    "src_bucket = 'digital-trend-raw-data'\n",
    "medium_path = 'snowplow/2018-10'\n",
    "\n",
    "conf = SparkConf()\n",
    "sc = SparkContext.getOrCreate(conf=conf)"
   ]
  },
  {
   "cell_type": "code",
   "execution_count": 2,
   "metadata": {},
   "outputs": [],
   "source": [
    "def split_url(url):\n",
    "    info = url.split('.com')\n",
    "    if len(info) == 2:\n",
    "        return info[1]\n",
    "    else:\n",
    "        return ' '\n",
    "    \n",
    "def to_list(x):\n",
    "    res = []\n",
    "    for i in x:\n",
    "        res.append(i)\n",
    "    return res"
   ]
  },
  {
   "cell_type": "code",
   "execution_count": 7,
   "metadata": {},
   "outputs": [
    {
     "data": {
      "text/plain": [
       "[(' /', '0'),\n",
       " ('/travel/best-travel-clothes-brands/', '1002075'),\n",
       " ('/celular/como-grabar-pantalla-celular/', '56635'),\n",
       " ('/computing/ssd-vs-hdd/', '396726'),\n",
       " ('/movies/avengers-endgame-trailer-release-date-news/', '2199706')]"
      ]
     },
     "execution_count": 7,
     "metadata": {},
     "output_type": "execute_result"
    }
   ],
   "source": [
    "# read posts table and reformat url\n",
    "if not os.path.isfile('./wordpress_combine.csv'):\n",
    "    !gsutil -m cp gs://digital-trend-data-unzipped/wordpress/wordpress_combine.csv ./wordpress_combine.csv\n",
    "posts_df = sc.textFile('./wordpress_combine.csv')\n",
    "posts = posts_df.map(lambda line: line.split(',')).map(lambda info: (split_url(info[4]) + '/', info[0]))\n",
    "posts_broadcast = sc.broadcast(posts.collectAsMap())\n",
    "posts.take(5)"
   ]
  },
  {
   "cell_type": "code",
   "execution_count": 15,
   "metadata": {},
   "outputs": [
    {
     "name": "stdout",
     "output_type": "stream",
     "text": [
      "[('XkhLEspKjz6MBjnqdpq7GMCydmtqLd-xD-db', 'US', '/home/little-girl-wants-alexa-to-play-baby-shark/', '2018-10-30 12:04:00'), ('HD3nALuG3lJgxw06hzjyu-U8xJUjTmAnfTWc', 'PK', '/mobile/how-to-record-the-screen-on-an-android-device/', '2018-10-30 12:04:01'), ('f5e0df66-f262-46cd-9454-eaa6aad97930', 'US', '/photography/best-space-photos/', '2018-10-30 12:04:01'), ('a1bb2623-29ad-4d53-9bd5-86568811d879', 'US', '/mobile/how-to-buy-apple-watch-series-4/', '2018-10-30 12:04:01'), ('507cc8d7-9c8f-4882-bb7d-c0e71835de1f', 'ES', '/inteligente/amazon-echo-y-echo-plus/', '2018-10-30 12:04:01'), ('ba902b4e-d5b5-4002-a366-9ec0beb5e958', 'PR', '/celular/noticias-oneplus-6t/', '2018-10-30 12:04:01'), ('47123b5d-96ad-4c65-af4b-b29e6a8a96b7', 'GB', '/mobile/iphone-xr-more-powerful-than-you-think/', '2018-10-30 12:04:01'), ('626b1812-a7ca-4d25-873b-5f47c134faa1', 'US', '/home/best-coffee-makers/', '2018-10-30 12:04:01'), ('63b45117-eada-4ce2-9b72-413963b9bf6a', 'IN', '/wearables/best-fitness-trackers/', '2018-10-30 12:04:01'), ('e4d98fa4-7427-4a5a-987f-b7c54b9ec407', 'US', '/movies/best-movies-on-amazon-prime/', '2018-10-30 12:04:01')]\n",
      "[('XkhLEspKjz6MBjnqdpq7GMCydmtqLd-xD-db|US', None, '2018-10-30 12:04:00'), ('HD3nALuG3lJgxw06hzjyu-U8xJUjTmAnfTWc|PK', None, '2018-10-30 12:04:01'), ('f5e0df66-f262-46cd-9454-eaa6aad97930|US', '766055', '2018-10-30 12:04:01'), ('a1bb2623-29ad-4d53-9bd5-86568811d879|US', None, '2018-10-30 12:04:01'), ('507cc8d7-9c8f-4882-bb7d-c0e71835de1f|ES', '74649', '2018-10-30 12:04:01'), ('ba902b4e-d5b5-4002-a366-9ec0beb5e958|PR', '636054', '2018-10-30 12:04:01'), ('47123b5d-96ad-4c65-af4b-b29e6a8a96b7|GB', None, '2018-10-30 12:04:01'), ('626b1812-a7ca-4d25-873b-5f47c134faa1|US', '572697', '2018-10-30 12:04:01'), ('63b45117-eada-4ce2-9b72-413963b9bf6a|IN', '120262', '2018-10-30 12:04:01'), ('e4d98fa4-7427-4a5a-987f-b7c54b9ec407|US', '772737', '2018-10-30 12:04:01')]\n",
      "[('f5e0df66-f262-46cd-9454-eaa6aad97930|US', '766055', '2018-10-30 12:04:01'), ('507cc8d7-9c8f-4882-bb7d-c0e71835de1f|ES', '74649', '2018-10-30 12:04:01'), ('ba902b4e-d5b5-4002-a366-9ec0beb5e958|PR', '636054', '2018-10-30 12:04:01'), ('626b1812-a7ca-4d25-873b-5f47c134faa1|US', '572697', '2018-10-30 12:04:01'), ('63b45117-eada-4ce2-9b72-413963b9bf6a|IN', '120262', '2018-10-30 12:04:01'), ('e4d98fa4-7427-4a5a-987f-b7c54b9ec407|US', '772737', '2018-10-30 12:04:01'), ('cb457cb9-9707-464e-aefc-608798e8b84c|US', '464123', '2018-10-30 12:04:01'), ('fd216f6a-a8f3-4d91-b788-4468b59fd71a|TH', '688880', '2018-10-30 12:04:01'), ('6c1f15cd-6724-48d9-89ef-d06bfdadacff|GB', '1222753', '2018-10-30 12:04:01'), ('cd3e549c-fc43-4b00-833a-3f64c74c7451|AU', '1088397', '2018-10-30 12:04:01')]\n",
      "[('f5e0df66-f262-46cd-9454-eaa6aad97930|US', '766055', '2018-10-30 12:04:01'), ('507cc8d7-9c8f-4882-bb7d-c0e71835de1f|ES', '74649', '2018-10-30 12:04:01'), ('ba902b4e-d5b5-4002-a366-9ec0beb5e958|PR', '636054', '2018-10-30 12:04:01'), ('626b1812-a7ca-4d25-873b-5f47c134faa1|US', '572697', '2018-10-30 12:04:01'), ('63b45117-eada-4ce2-9b72-413963b9bf6a|IN', '120262', '2018-10-30 12:04:01'), ('e4d98fa4-7427-4a5a-987f-b7c54b9ec407|US', '772737', '2018-10-30 12:04:01'), ('cb457cb9-9707-464e-aefc-608798e8b84c|US', '464123', '2018-10-30 12:04:01'), ('fd216f6a-a8f3-4d91-b788-4468b59fd71a|TH', '688880', '2018-10-30 12:04:01'), ('6c1f15cd-6724-48d9-89ef-d06bfdadacff|GB', '1222753', '2018-10-30 12:04:01'), ('cd3e549c-fc43-4b00-833a-3f64c74c7451|AU', '1088397', '2018-10-30 12:04:01')]\n"
     ]
    }
   ],
   "source": [
    "N1 = [0]  # range 0 - 3\n",
    "N2 = [3]    # range 0 - 11\n",
    "user_clicklist_combine = sc.parallelize('')\n",
    "for idx1 in N1:\n",
    "    for idx2 in N2:\n",
    "        file_name = format(idx1, '04d') + '_part_' + format(idx2, '02d') + '.gz'\n",
    "        if not os.path.isfile('./' + file_name):\n",
    "            !gsutil -m cp gs://{src_bucket}/{medium_path}/{file_name} ./{file_name}\n",
    "        # read file into rdd\n",
    "        # extract useful info\n",
    "        # gs://digital-trend-raw-data/snowplow/2019-03/0000_part_00\n",
    "        click_df = sc.textFile(file_name)\n",
    "        clicks = click_df.map(lambda line: line.split('\",\"')).map(lambda info: (info[15], info[18], info[35], info[3]))\n",
    "        print(clicks.take(10))\n",
    " \n",
    "        # match user clicks url with post id\n",
    "        clicks_with_id = clicks.map(lambda info: (info[0] + '|' + info[1], posts_broadcast.value.get(info[2]), info[3]))\n",
    "        print(clicks_with_id.take(10))\n",
    "        \n",
    "        # filter user clicks\n",
    "        user_clicks = clicks_with_id.filter(lambda info: info[0] is not None and info[1] is not None and info[2] is not None and info[0] is not '' and info[1] is not '' and info[2] is not '')\n",
    "        print(user_clicks.take(10))\n",
    "        \n",
    "        # group user clicks\n",
    "        # user_clicklist = user_clicks.distinct().groupByKey().mapValues(lambda x: to_list(x))\n",
    "        # print(user_clicklist.count())\n",
    "        \n",
    "        # combine with old one\n",
    "        user_clicklist_combine = user_clicklist_combine.union(user_clicks)\n",
    "        print(user_clicklist_combine.take(10))\n",
    "        \n",
    "        "
   ]
  },
  {
   "cell_type": "code",
   "execution_count": 18,
   "metadata": {},
   "outputs": [
    {
     "name": "stdout",
     "output_type": "stream",
     "text": [
      "[('507cc8d7-9c8f-4882-bb7d-c0e71835de1f|ES', '74649', '2018-10-30 12:04:01'), ('7db35ae5-237c-4b15-a090-7b318a3018d6|US', '108446', '2018-10-30 12:04:03'), ('eb50e531-a1a3-4157-aaa9-bba6b2b80ded|EE', '2224743', '2018-10-30 12:04:03')]\n",
      "1039284\n"
     ]
    }
   ],
   "source": [
    "user_clicklist_output = user_clicklist_combine.distinct().filter(lambda info: info[1] is not None)\n",
    "print(user_clicklist_output.take(3))\n",
    "print(user_clicklist_output.count())"
   ]
  },
  {
   "cell_type": "code",
   "execution_count": 22,
   "metadata": {},
   "outputs": [],
   "source": [
    "user_clicklist_output.saveAsTextFile('output')"
   ]
  },
  {
   "cell_type": "code",
   "execution_count": null,
   "metadata": {},
   "outputs": [],
   "source": []
  }
 ],
 "metadata": {
  "kernelspec": {
   "display_name": "Python 3",
   "language": "python",
   "name": "python3"
  },
  "language_info": {
   "codemirror_mode": {
    "name": "ipython",
    "version": 3
   },
   "file_extension": ".py",
   "mimetype": "text/x-python",
   "name": "python",
   "nbconvert_exporter": "python",
   "pygments_lexer": "ipython3",
   "version": "3.7.1"
  }
 },
 "nbformat": 4,
 "nbformat_minor": 2
}
