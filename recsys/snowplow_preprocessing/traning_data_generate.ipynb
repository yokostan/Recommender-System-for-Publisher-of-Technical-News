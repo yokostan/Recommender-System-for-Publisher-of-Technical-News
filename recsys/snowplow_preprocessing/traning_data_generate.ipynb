{
 "cells": [
  {
   "cell_type": "code",
   "execution_count": 19,
   "metadata": {},
   "outputs": [],
   "source": [
    "import findspark\n",
    "findspark.init()\n",
    "import pandas as pd\n",
    "from pyspark import SparkConf, SparkContext\n",
    "import os\n",
    "import re\n",
    "import time\n",
    "import datetime\n",
    "import json\n",
    "\n",
    "conf = SparkConf()\n",
    "sc = SparkContext.getOrCreate(conf=conf)"
   ]
  },
  {
   "cell_type": "code",
   "execution_count": 20,
   "metadata": {},
   "outputs": [
    {
     "name": "stdout",
     "output_type": "stream",
     "text": [
      "7040\n"
     ]
    }
   ],
   "source": [
    "K = 160\n",
    "       \n",
    "with open('./data_{}_cluster/user_feature_{}.json'.format(K, K), 'r') as inputfile:  \n",
    "    user_feature_dict = json.load(inputfile)\n",
    "\n",
    "user_ids = user_feature_dict.keys()\n",
    "print(len(user_feature_dict))"
   ]
  },
  {
   "cell_type": "code",
   "execution_count": 21,
   "metadata": {},
   "outputs": [
    {
     "name": "stdout",
     "output_type": "stream",
     "text": [
      "[1.0, 0.0, 0.0, 0.0, 0.0, 0.0, 0.0, 0.0, 0.0, 0.0, 0.0, 0.0, 0.0, 0.0, 0.0, 0.0, 0.0, 0.023809523809523808, 0.0, 0.0, 0.0, 0.0, 0.047619047619047616, 0.0, 0.0, 0.0, 0.0, 0.0, 0.0, 0.0, 0.0, 0.047619047619047616, 0.0, 0.0, 0.0, 0.0, 0.0, 0.0, 0.0, 0.0, 0.023809523809523808, 0.0, 0.023809523809523808, 0.0, 0.0, 0.0, 0.0, 0.047619047619047616, 0.0, 0.0, 0.0, 0.0, 0.0, 0.0, 0.023809523809523808, 0.023809523809523808, 0.0, 0.0, 0.11904761904761904, 0.0, 0.0, 0.09523809523809523, 0.07142857142857142, 0.0, 0.0, 0.0, 0.0, 0.023809523809523808, 0.0, 0.0, 0.023809523809523808, 0.023809523809523808, 0.0, 0.0, 0.0, 0.19047619047619047, 0.0, 0.0, 0.19047619047619047, 0.0, 0.0, 0.0, 0.0, 0.0, 0.0, 0.0, 0.0, 0.0, 0.0, 0.0, 0.0, 0.0, 0.0, 0.0, 0.0, 0.0, 0.0, 0.0, 0.0, 0.0, 0.0, 0.0, 0.0, 0.0, 0.0, 0.0, 0.0, 0.0, 0.0, 0.0, 0.0, 0.0, 0.0, 0.0, 0.0, 0.0, 0.0, 0.0, 0.0, 0.0, 0.0, 0.0, 0.0, 0.0, 0.0, 0.0, 0.0, 0.0, 0.0, 0.0, 0.0, 0.0, 0.0, 0.0, 0.0, 0.0, 0.0, 0.0, 0.0, 0.0, 0.0, 0.0, 0.0, 0.0, 0.0, 0.0, 0.0, 0.0, 0.0, 0.0, 0.0, 0.0, 0.0, 0.0, 0.0, 0.0, 0.0, 0.0, 0.0, 0.0, 0.0, 0.0, 0.0, 0.0, 0.0, 0.0, 0.0, 0.0, 0.0, 0.0, 0.0, 0.0, 0.0, 0.0]\n"
     ]
    }
   ],
   "source": [
    "print(user_feature_dict.get('122b7665-6fac-4278-97e8-b72f7ccbb5dc'))"
   ]
  },
  {
   "cell_type": "code",
   "execution_count": 22,
   "metadata": {},
   "outputs": [
    {
     "name": "stdout",
     "output_type": "stream",
     "text": [
      "61507\n"
     ]
    }
   ],
   "source": [
    "with open('./data_{}_cluster/post_feature_{}.json'.format(K, K), 'r') as inputfile:  \n",
    "    post_feature_dict = json.load(inputfile)\n",
    "\n",
    "post_ids = post_feature_dict.keys()\n",
    "print(len(post_feature_dict))"
   ]
  },
  {
   "cell_type": "code",
   "execution_count": 6,
   "metadata": {},
   "outputs": [
    {
     "name": "stdout",
     "output_type": "stream",
     "text": [
      "61507\n"
     ]
    }
   ],
   "source": [
    "# generate post lists\n",
    "post_list = post_feature_dict.keys()\n",
    "\n",
    "print(len(post_list))"
   ]
  },
  {
   "cell_type": "code",
   "execution_count": 6,
   "metadata": {},
   "outputs": [],
   "source": [
    "user_click = sc.parallelize('')\n",
    "for i in range(1, 10, 1):\n",
    "    file_path = './userID_clickID_date_all/user_click_20180' + str(i)\n",
    "    user_click_onemonth = sc.textFile(file_path).map(lambda line: tuple(re.findall(r\"'(.*?)'\", line)))\\\n",
    "                    .map(lambda line: (line[0].split('|')[0], line[1], line[2]))\\\n",
    "                    .filter(lambda x: user_feature_dict.get(x[0]) != None)\\\n",
    "    \n",
    "    user_click = user_click.union(user_click_onemonth)"
   ]
  },
  {
   "cell_type": "code",
   "execution_count": 7,
   "metadata": {},
   "outputs": [],
   "source": [
    "# add user feature\n",
    "user_feature_click = user_click.map(lambda x: (x[0], x[1], x[2], user_feature_dict.get(x[0])))\n",
    "\n",
    "#print(user_feature_click.take(2))"
   ]
  },
  {
   "cell_type": "code",
   "execution_count": 8,
   "metadata": {},
   "outputs": [],
   "source": [
    "# add post feature\n",
    "user_usrfeature_pstfeature = user_feature_click.filter(lambda x: post_feature_dict.get(x[1]) != None)\\\n",
    "                            .map(lambda x: (x[0], x[1], x[2], x[3], post_feature_dict.get(x[1])))\n",
    "\n",
    "#print(user_usrfeature_pstfeature.take(1))"
   ]
  },
  {
   "cell_type": "code",
   "execution_count": 9,
   "metadata": {},
   "outputs": [],
   "source": [
    "# calculate time diff\n",
    "def convert_to_stp(date):\n",
    "    date = date.split('-')\n",
    "    date = date[1] + '/' + date[2] + '/20' + date[0][2:]\n",
    "    return time.mktime(datetime.datetime.strptime(date, \"%m/%d/%Y\").timetuple())\n",
    "\n",
    "user_usrfeature_pstfeature_output = user_usrfeature_pstfeature\\\n",
    "                    .map(lambda x: (x[0], x[1], convert_to_stp(x[2].split(' ')[0]), x[3], x[4]))\\\n",
    "                    .map(lambda x: (x[0], x[1], x[3], x[4][:-2], x[2] - float(x[4][-1])))\\\n",
    "                    .filter(lambda x: x[4] > 0)\n",
    "\n",
    "\n",
    "#print(user_usrfeature_pstfeature_output.take(1))"
   ]
  },
  {
   "cell_type": "code",
   "execution_count": 10,
   "metadata": {},
   "outputs": [],
   "source": [
    "user_usrfeature_pstfeature_train = user_usrfeature_pstfeature_output\\\n",
    "                .map(lambda x: (x[0], )+(x[1], )+ (x[4], ) +  tuple(x[2]) + tuple(x[3]))\n",
    "\n",
    "#print(user_usrfeature_pstfeature_train.take(2))"
   ]
  },
  {
   "cell_type": "code",
   "execution_count": 11,
   "metadata": {},
   "outputs": [],
   "source": [
    "from pyspark.sql.types import Row\n",
    "from pyspark.sql import SparkSession\n",
    "from pyspark import SparkContext\n",
    "\n",
    "\n",
    "spark = SparkSession(sc)\n",
    "\n",
    "#here you are going to create a function\n",
    "def f(x):\n",
    "    d = tuple()\n",
    "    for i in range(len(x)):\n",
    "        if i == 0 or i == 1:\n",
    "            d += (x[i],)\n",
    "        else:\n",
    "            d += (float(x[i]),)\n",
    "    return d\n",
    "\n",
    "#Now populate that\n",
    "df = user_usrfeature_pstfeature_train.map(lambda x: f(x)).toDF()\n",
    "\n"
   ]
  },
  {
   "cell_type": "code",
   "execution_count": 12,
   "metadata": {},
   "outputs": [],
   "source": [
    "#df.show(1);"
   ]
  },
  {
   "cell_type": "code",
   "execution_count": 13,
   "metadata": {},
   "outputs": [],
   "source": [
    "df.write.csv('./data_{}_cluster/training_1'.format(K))"
   ]
  },
  {
   "cell_type": "code",
   "execution_count": null,
   "metadata": {},
   "outputs": [],
   "source": []
  }
 ],
 "metadata": {
  "kernelspec": {
   "display_name": "Python 3",
   "language": "python",
   "name": "python3"
  },
  "language_info": {
   "codemirror_mode": {
    "name": "ipython",
    "version": 3
   },
   "file_extension": ".py",
   "mimetype": "text/x-python",
   "name": "python",
   "nbconvert_exporter": "python",
   "pygments_lexer": "ipython3",
   "version": "3.7.1"
  }
 },
 "nbformat": 4,
 "nbformat_minor": 2
}
