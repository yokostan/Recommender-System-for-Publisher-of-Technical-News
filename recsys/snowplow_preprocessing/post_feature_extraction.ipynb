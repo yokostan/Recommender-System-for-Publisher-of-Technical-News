{
 "cells": [
  {
   "cell_type": "code",
   "execution_count": 27,
   "metadata": {},
   "outputs": [],
   "source": [
    "import findspark\n",
    "findspark.init()\n",
    "import pandas as pd\n",
    "from pyspark import SparkConf, SparkContext\n",
    "import os\n",
    "import re\n",
    "import time\n",
    "import datetime\n",
    "import sys\n",
    "import json\n",
    "\n",
    "conf = SparkConf()\n",
    "sc = SparkContext.getOrCreate(conf=conf)"
   ]
  },
  {
   "cell_type": "code",
   "execution_count": 28,
   "metadata": {},
   "outputs": [],
   "source": [
    "K = 160\n",
    "cluster_file_location = \"word2vec_clustering_cluster_limit_word2vec2_cluster_kmeans{}_total.csv\".format(K)\n"
   ]
  },
  {
   "cell_type": "code",
   "execution_count": 29,
   "metadata": {},
   "outputs": [],
   "source": [
    "if not os.path.isdir('./data_{}_cluster'.format(K)):\n",
    "    os.mkdir('./data_{}_cluster'.format(K))\n",
    "    \n",
    "save_path = './data_{}_cluster/post_feature_{}.json'.format(K, K)\n",
    "clustered_post_path = './data_{}_cluster/clustered_post_{}.json'.format(K, K)"
   ]
  },
  {
   "cell_type": "code",
   "execution_count": 30,
   "metadata": {},
   "outputs": [
    {
     "name": "stdout",
     "output_type": "stream",
     "text": [
      "[['1002075', '4/3/19', 'fashion|travel|Travel|Travel|packing|luggage|apparel', '5 Best Travel Clothes Brands You Can Get Away with Not Washing', 'www.themanual.com/travel/best-travel-clothes-brands'], ['56635', '4/2/19', 'celular|Telefonía celular|Mobile|celular|como-grabar-pantalla-del-celular|quicktime|lonely-screen|apowersoft', 'Te mostramos cómo grabar la pantalla del iPhone fácilmente', 'es.digitaltrends.com/celular/como-grabar-pantalla-celular'], ['396726', '4/2/19', 'computing|buying-guides|Computing|Computing|hdd|ssd|sshd', 'SSD vs. HDD', 'www.digitaltrends.com/computing/ssd-vs-hdd']]\n",
      "[('1002075', 1554249600.0), ('56635', 1554163200.0), ('396726', 1554163200.0), ('2199706', 1554163200.0), ('2310644', 1554076800.0), ('2312038', 1554076800.0), ('81655', 1553990400.0), ('2312093', 1553990400.0), ('979013', 1553904000.0), ('1315200', 1553904000.0)]\n",
      "176359\n",
      "1554249600.0\n"
     ]
    }
   ],
   "source": [
    "def convert_to_stp(date):\n",
    "    date = date.split('/')\n",
    "    date[0] = \"{0:0>2}\".format(int(date[0]))\n",
    "    date[1] = \"{0:0>2}\".format(int(date[1]))\n",
    "    date = date[0] + '/' + date[1] + '/20' + date[2]\n",
    "    return time.mktime(datetime.datetime.strptime(date, \"%m/%d/%Y\").timetuple())\n",
    "\n",
    "\n",
    "if not os.path.isfile('./wordpress_combine.csv'):\n",
    "    !gsutil -m cp gs://digital-trend-data-unzipped/user_clicks_combine/wordpress/wordpress_combine.csv ./wordpress_combine.csv\t\n",
    "posts = sc.textFile('./wordpress_combine.csv')\\\n",
    "                .map(lambda line: line.split(','))\\\n",
    "                .filter(lambda line: line[0] != '0')\\\n",
    "\n",
    "post_tsp = posts.map(lambda line: (line[0], convert_to_stp(line[1])))\n",
    "\n",
    "print(posts.take(3))\n",
    "print(post_tsp.take(10))\n",
    "print(post_tsp.count())\n",
    "\n",
    "post_tsp_dict = post_tsp.collectAsMap()\n",
    "print(post_tsp_dict.get('1002075'))"
   ]
  },
  {
   "cell_type": "code",
   "execution_count": 31,
   "metadata": {},
   "outputs": [
    {
     "name": "stdout",
     "output_type": "stream",
     "text": [
      "[('1421442', ('0.098892563', '0.102089292', '-0.318239731', '-0.208830575', '-0.068282231', '-0.255948234', '0.162419267', '0.272043177', '-0.001014436', '-0.065607232', '0.064096039', '-0.008541029', '0.342712751', '0.191695274', '-0.012319952', '0.208137059', '-0.046524898', '0.105477104', '-0.040210796', '0.193598983', '-0.037529704', '0.185677126', '-0.012594694', '0.103968483', '-0.041162812', '-0.006860914', '0.124144584', '-0.024743152', '0.011455852', '0.49490109', '-0.189881916', '0.245100581', '0')), ('2197914', ('0.07727495', '0.162456005', '-0.359939277', '-0.121451972', '-0.111216197', '-0.266144592', '0.198612034', '0.245898306', '0.086982125', '-0.02679752', '0.059231659', '0.076752615', '0.361376139', '0.206717229', '0.107092298', '0.095726339', '-0.075782881', '0.13601805', '-0.051357334', '0.182648898', '-0.141830681', '0.129822855', '0.004728177', '0.098957763', '0.0213878', '-0.107089783', '0.15885546', '0.020287991', '0.115594646', '0.472407426', '-0.17365275', '0.131488158', '0'))]\n"
     ]
    }
   ],
   "source": [
    "\n",
    "if not os.path.isfile(cluster_file_location):\n",
    "    !gsutil -m cp gs://digital-trend-data-unzipped/word2vec_clustering/cluster_limit/{cluster_file_location}\t ./{cluster_file_location}\n",
    "post_feature_cluster = sc.textFile(cluster_file_location)\\\n",
    "                    .map(lambda info: info.split(','))\\\n",
    "                    .map(lambda info: (info[0], tuple(info[1:34])))\\\n",
    "                    .filter(lambda info: info[0] != 'post_id')\n",
    "print(post_feature_cluster.take(2))\n"
   ]
  },
  {
   "cell_type": "code",
   "execution_count": 32,
   "metadata": {},
   "outputs": [
    {
     "name": "stdout",
     "output_type": "stream",
     "text": [
      "176359\n",
      "[('1421442', [0.098892563, 0.102089292, -0.318239731, -0.208830575, -0.068282231, -0.255948234, 0.162419267, 0.272043177, -0.001014436, -0.065607232, 0.064096039, -0.008541029, 0.342712751, 0.191695274, -0.012319952, 0.208137059, -0.046524898, 0.105477104, -0.040210796, 0.193598983, -0.037529704, 0.185677126, -0.012594694, 0.103968483, -0.041162812, -0.006860914, 0.124144584, -0.024743152, 0.011455852, 0.49490109, -0.189881916, 0.245100581, 0.0, 1534204800.0]), ('2197914', [0.07727495, 0.162456005, -0.359939277, -0.121451972, -0.111216197, -0.266144592, 0.198612034, 0.245898306, 0.086982125, -0.02679752, 0.059231659, 0.076752615, 0.361376139, 0.206717229, 0.107092298, 0.095726339, -0.075782881, 0.13601805, -0.051357334, 0.182648898, -0.141830681, 0.129822855, 0.004728177, 0.098957763, 0.0213878, -0.107089783, 0.15885546, 0.020287991, 0.115594646, 0.472407426, -0.17365275, 0.131488158, 0.0, 1531872000.0]), ('412141', [0.095356972, 0.13117271, -0.37405098, -0.264683779, -0.060689012, -0.286147744, 0.212063982, 0.227333323, -0.04503667, -0.084642713, 0.080439234, 0.02477374, 0.394018073, 0.182848999, -0.017491709, 0.157197139, -0.048525724, 0.038993556, -0.00918682, 0.193711619, -0.1436993, 0.165121851, -0.057396586, 0.132044795, 0.055202213, -0.027716352, 0.141801589, -0.063982066, -0.022501031, 0.424153457, -0.122803108, 0.133781161, 0.0, 1530921600.0]), ('1359211', [0.160701294, 0.115530935, -0.391550812, -0.232712535, -0.130417524, -0.386757749, 0.270627801, 0.269614925, -0.041878984, -0.021219133, 0.099322831, 0.035170063, 0.310102853, 0.074236406, -0.043881865, 0.136155588, -0.079796458, 0.038233328, 0.023544382, 0.140113436, -0.007164476, 0.176165106, -0.070748309, 0.099342503, 0.016984149, -0.029591393, 0.141928806, -0.05268991, -0.014382586, 0.419781021, -0.149052794, 0.093246227, 0.0, 1530576000.0])]\n"
     ]
    }
   ],
   "source": [
    "def to_float(T):\n",
    "    res = []\n",
    "    for t in T:\n",
    "        res.append(float(t))\n",
    "    return res\n",
    "\n",
    "def get_timestamp(date):\n",
    "    return post_feature_cluster.value.get(date)\n",
    "\n",
    "post_feature = post_feature_cluster.mapValues(tuple)\\\n",
    "                .map(lambda info: (info[0], list( tuple(to_float(info[1])) + (post_tsp_dict.get(info[0]), ))))\n",
    "print(post_feature.count())\n",
    "print(post_feature.take(4))\n"
   ]
  },
  {
   "cell_type": "code",
   "execution_count": 39,
   "metadata": {},
   "outputs": [
    {
     "name": "stdout",
     "output_type": "stream",
     "text": [
      "[('41476', 3), ('42738', 3), ('51905', 3), ('2.20E+06', 695), ('2.31E+06', 716), ('1.00E+06', 552), ('5.73E+05', 43), ('2.30E+06', 962), ('1.40E+06', 769), ('1.25E+06', 726)]\n"
     ]
    }
   ],
   "source": [
    "post_feature_reduce = post_feature.map(lambda x: (x[0], 1)).reduceByKey(lambda x, y: x + y).filter(lambda x: x[1] > 2)\n",
    "print(post_feature_reduce.take(10))"
   ]
  },
  {
   "cell_type": "code",
   "execution_count": 33,
   "metadata": {},
   "outputs": [],
   "source": [
    "with open(save_path, 'w') as outfile:  \n",
    "    json.dump(post_feature.collectAsMap(), outfile)"
   ]
  },
  {
   "cell_type": "code",
   "execution_count": 34,
   "metadata": {},
   "outputs": [
    {
     "name": "stdout",
     "output_type": "stream",
     "text": [
      "[0.281270855, 0.109975921, 0.124338905, -0.221134741, 0.107404406, -0.061329004, 0.336072625, -0.103838169, -0.080011655, 0.095860341, 0.102366746, -0.173454508, 0.221690306, 0.124662899, -0.004446651, -0.202376869, 0.024064676, 0.230010116, 0.094039662, 0.237077338, -0.111818731, 0.281354555, 0.077846064, 0.062100764, -0.235334693, 0.069466248, 0.142621747, -0.017744301, 0.162133874, 0.455479974, -0.049766763, 0.079899357, 7.0, 1554249600.0]\n",
      "61507\n"
     ]
    }
   ],
   "source": [
    "# extract post feature: (id, vector)\n",
    "with open(save_path, 'r') as inputfile:  \n",
    "    post_feature_dict = json.load(inputfile)\n",
    "\n",
    "print(post_feature_dict.get('1002075'))\n",
    "print(len(post_feature_dict.keys()))"
   ]
  },
  {
   "cell_type": "code",
   "execution_count": 18,
   "metadata": {},
   "outputs": [
    {
     "name": "stdout",
     "output_type": "stream",
     "text": [
      "5 Best Travel Clothes Brands You Can Get Away with Not Washing\n"
     ]
    }
   ],
   "source": [
    "# visualize post in one cluster\n",
    "# post id and keywords\n",
    "wordpress_file_location = \"./wordpress_combine.csv\"\n",
    "if not os.path.isfile(wordpress_file_location):\n",
    "    !gsutil -m cp gs://digital-trend-data-unzipped/wordpress/wordpress_combine.csv\t {wordpress_file_location}\n",
    "wordpress = sc.textFile(wordpress_file_location).map(lambda x: x.split(',')).map(lambda x: (x[0], x[3])).collectAsMap()\n",
    "print(wordpress.get('1002075'))\n"
   ]
  },
  {
   "cell_type": "code",
   "execution_count": 19,
   "metadata": {},
   "outputs": [],
   "source": [
    "joined_cluster = post_feature.map(lambda x: (int(x[1][-2]), x[0])).groupByKey().mapValues(list).collectAsMap()\n",
    "\n",
    "cluster_Keys = joined_cluster.keys()\n",
    "cluster_info = {}\n",
    "for key in cluster_Keys:\n",
    "    cluster_info[key] = {}\n",
    "    one_cluster = cluster_info[key]\n",
    "    for post in joined_cluster.get(key):\n",
    "        one_cluster[post] = {}\n",
    "        post_info = one_cluster[post]\n",
    "        post_info['title'] = wordpress.get(post)\n",
    "        post_info['feature'] = post_feature_dict.get(post)\n",
    "        \n",
    "with open(clustered_post_path, 'w') as outfile:  \n",
    "    json.dump(cluster_info, outfile)"
   ]
  },
  {
   "cell_type": "code",
   "execution_count": null,
   "metadata": {},
   "outputs": [],
   "source": []
  }
 ],
 "metadata": {
  "kernelspec": {
   "display_name": "Python 3",
   "language": "python",
   "name": "python3"
  },
  "language_info": {
   "codemirror_mode": {
    "name": "ipython",
    "version": 3
   },
   "file_extension": ".py",
   "mimetype": "text/x-python",
   "name": "python",
   "nbconvert_exporter": "python",
   "pygments_lexer": "ipython3",
   "version": "3.7.1"
  }
 },
 "nbformat": 4,
 "nbformat_minor": 2
}
